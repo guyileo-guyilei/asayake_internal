{
 "cells": [
  {
   "cell_type": "markdown",
   "id": "2040e3e8-7b83-4625-9eac-92f3ceea4029",
   "metadata": {},
   "source": [
    "# Asayake Taiko Tryouts Attendance Tracker\n",
    "The program `tryouts_attendance.exe` is designed easily keep track of tryoutee attendance and can be used each fall quarter with a specific Google Form setup. Program written by Matthew Alegrado, Internal Director 2024-25, discord @ gaiiuss.\n",
    "\n",
    "## Setup\n",
    "Each Google Form should have an automatic email address collection that retrieves the school email of each tryoutee. This means that your own UCSD email needs to be the owner of the Google Form, not the Internal account. The email shouldn't be an entry in the form (as people tend to misspell the email and screw up results) but the \"Verified\" option for the \"Collect email addresses\" setting in the form. \n",
    "\n",
    "#### Column Names\n",
    "The names of the first two columns in the Google Sheet linked to each attendance form should be \"Timestamp\" and \"Email Address\". Identifiers such as the person's name and phone number should stay the same between forms (whatever name you choose must be written in `parameters.json`, see \"Parameters\"). Phone numbers aren't required for the program to run before all data from tryouts is collected.\n",
    "\n",
    "#### Files\n",
    "There should be one attendance sheet from each week that must be converted to a .csv file, which can be done by selecting `File > Download > Comma seperated value (.csv)` if on Google Sheets, and then placing it into a folder called `inputs` in the current directory. Likewise, make sure that no other files are in that folder. \n",
    "\n",
    "#### Parameters\n",
    "There are parameters that might need to be changed based on tryouts requirements, i.e. length of tryouts, how many days the tryoutees can miss and need to make up, etc. Most importantly, change the dates `week_1_main` and `week_1_makeup`, corresponding to the days of the first official tryout and the first official makeup, assuming they each occur once a week. \n",
    "\n",
    "### Running the Program\n",
    "Depending on what the variable `week_num` is in `parameters.json`, if it is the last week of tryouts, the output will write to `week_5_performers.xlsx`. This will list all the performers and their information along with if they are deemed eligible based on attendance.\n",
    "\n",
    "Otherwise, the output will write to `week_X_attendance`, where X is the given `week_num`. Here, it will display the people that attended this week's tryouts and their previous history.\n",
    "\n",
    "The script will output to .xlsx files, specifically `tryoutees.xlsx` and the one listed in the output. The former is a list of all the tryoutees.\n",
    "\n",
    "## Notes\n",
    "Since this program relies on the timestamp of attendance submissions, make sure that no one fills out the attendance on a different day by accident (say, if they forget to do it that day). \n",
    "\n",
    "If for whatever reason Asa stops doing Sunday as the tryout day, note that each reference to Sunday is just whichever day the tryouts are each week.\n",
    "\n",
    "Any attendance mishaps that need to be amended manually should be done so in the original attendance spreadsheet, filled out in the same manner as other entries with the correct timestamp formatting (can copy and paste from another cell). This will ensure the program treats it the same as the other proper entries."
   ]
  },
  {
   "cell_type": "code",
   "execution_count": 1,
   "id": "3fbc34cb-5839-4e9f-be2d-2ed5c2552092",
   "metadata": {},
   "outputs": [],
   "source": [
    "import numpy as np\n",
    "import pandas as pd\n",
    "import glob\n",
    "import re\n",
    "from datetime import datetime, timedelta\n",
    "import json\n",
    "import ast\n",
    "import openpyxl\n",
    "import atexit\n",
    "\n",
    "import warnings\n",
    "warnings.filterwarnings(\"ignore\")"
   ]
  },
  {
   "cell_type": "code",
   "execution_count": 2,
   "id": "13b84671-63e5-4f7d-828b-c8450152dacb",
   "metadata": {},
   "outputs": [],
   "source": [
    "# Reading parameters and dates from 'parameters.json'\n",
    "dates_string = []\n",
    "with open('parameters.json') as json_file:\n",
    "    # Parameters\n",
    "    data = json.load(json_file)\n",
    "    num_weeks = ast.literal_eval(data['parameters']['num_weeks'])\n",
    "    week_num = ast.literal_eval(data['parameters']['week_num'])\n",
    "    required_sunday_practices = ast.literal_eval(data['parameters']['required_sunday_practices'])\n",
    "    required_total_practices = ast.literal_eval(data['parameters']['required_total_practices'])\n",
    "    data_2023 = ast.literal_eval(data['parameters']['data_2023'])\n",
    "    # Dates\n",
    "    dates_string.append(data['dates']['first_tryout'])\n",
    "    dates_string.append(data['dates']['first_makeup'])\n",
    "    # Column names\n",
    "    email = data['columns']['email']\n",
    "    name = data['columns']['name']\n",
    "    phone_number = data['columns']['phone_number']"
   ]
  },
  {
   "cell_type": "code",
   "execution_count": 3,
   "id": "352eecc3-cb20-47e2-94dc-a7a699af56ff",
   "metadata": {},
   "outputs": [],
   "source": [
    "def find_date(string):\n",
    "    date_list = string.split('-')\n",
    "    month = int(date_list[0])\n",
    "    day = int(date_list[1])\n",
    "    year = int(date_list[2])\n",
    "    return datetime(year, month, day).date()"
   ]
  },
  {
   "cell_type": "code",
   "execution_count": 4,
   "id": "5dc75722-21ab-41d8-a37e-f3f8970376c0",
   "metadata": {},
   "outputs": [],
   "source": [
    "# Convert dates into datetime\n",
    "dates = []\n",
    "for i in range(2):\n",
    "    dates.append(find_date(dates_string[i]))\n",
    "# New variable names for clarity\n",
    "week_1_main = dates[0]\n",
    "week_1_makeup = dates[1]"
   ]
  },
  {
   "cell_type": "code",
   "execution_count": 5,
   "id": "7af75b9c-fb95-49ea-9f5b-5720c54ba2ac",
   "metadata": {},
   "outputs": [],
   "source": [
    "# Date calculation\n",
    "main_days = [(week_1_main + timedelta(days=i*7)) for i in range(0,5)]\n",
    "makeup_days = [(week_1_makeup + timedelta(days=i*7)) for i in range(0,5)]"
   ]
  },
  {
   "cell_type": "code",
   "execution_count": 6,
   "id": "cb7a78e5-7c93-4c6d-b3b6-42b41493ad8b",
   "metadata": {},
   "outputs": [],
   "source": [
    "# If this fails, the .csv files are in the wrong place\n",
    "files = glob.glob(r'.\\inputs\\*.csv')\n",
    "assert len(files) > 0\n",
    "if week_num is None:\n",
    "    week_num = len(files)\n",
    "    if include_week_0:\n",
    "        week_num += 1"
   ]
  },
  {
   "cell_type": "code",
   "execution_count": 7,
   "id": "0dd82e0b-75cd-41e2-bf81-81013104e3b2",
   "metadata": {},
   "outputs": [],
   "source": [
    "df = pd.concat([pd.read_csv(f) for f in files])"
   ]
  },
  {
   "cell_type": "code",
   "execution_count": 8,
   "id": "01542cb9",
   "metadata": {},
   "outputs": [],
   "source": [
    "# Function to clean email addresses\n",
    "def clean_address(email):\n",
    "    try:\n",
    "        email = email.strip()\n",
    "        email = email.lower()\n",
    "        return email\n",
    "    except:\n",
    "        return email"
   ]
  },
  {
   "cell_type": "code",
   "execution_count": 9,
   "id": "3c6fc190",
   "metadata": {},
   "outputs": [],
   "source": [
    "df[email] = df[email].apply(clean_address)"
   ]
  },
  {
   "cell_type": "code",
   "execution_count": 10,
   "id": "cda243f6-ff39-435b-bc9e-3c56c0d2b4a5",
   "metadata": {},
   "outputs": [],
   "source": [
    "try:\n",
    "#     tryoutees = df[['Timestamp',email,name,'Name',phone_number]] # for testing\n",
    "    tryoutees = df[['Timestamp',email,name,phone_number]] # for rollout\n",
    "    tryoutees = tryoutees.rename(columns={email: 'Email Address', name: 'Full Name', phone_number: 'Phone Number'})\n",
    "    tryoutees['Email Address'] = tryoutees['Email Address'].apply(clean_address)\n",
    "except KeyError: # No phone number detected, usually\n",
    "#     tryoutees = df[['Timestamp',email,name,'Name']] # for testing\n",
    "    tryoutees = df[['Timestamp',email,name]] # for rollout\n",
    "    tryoutees = tryoutees.rename(columns={email: 'Email Address', name: 'Full Name'})\n",
    "    tryoutees['Email Address'] = tryoutees['Email Address'].apply(clean_address)"
   ]
  },
  {
   "cell_type": "code",
   "execution_count": 11,
   "id": "5a636128-e2a9-4962-8c0b-1591b1914550",
   "metadata": {},
   "outputs": [],
   "source": [
    "# Merge name columns for 2023 data\n",
    "if data_2023:\n",
    "    tryoutees.loc[tryoutees['Full Name'].isnull(), 'Full Name'] = tryoutees.loc[tryoutees['Full Name'].isnull(), 'Name']\n",
    "    tryoutees = tryoutees.drop(columns=['Name'])\n",
    "    tryoutees.head()"
   ]
  },
  {
   "cell_type": "code",
   "execution_count": 12,
   "id": "fa836a90-97e8-4190-815c-0d9fac619252",
   "metadata": {},
   "outputs": [],
   "source": [
    "# Assign phone numbers\n",
    "try:\n",
    "    list = tryoutees.drop_duplicates(subset='Email Address')\n",
    "    list = list[['Email Address','Full Name']]\n",
    "    \n",
    "    details = df[[email, phone_number]]\n",
    "    details = details.rename(columns={email: 'Email Address', phone_number: 'Phone Number'})\n",
    "    details = details.dropna()\n",
    "    details = details.drop_duplicates(subset='Phone Number')\n",
    "    details = details.merge(list, how='right', on=['Email Address'])\n",
    "    details = details[['Email Address','Full Name','Phone Number']]\n",
    "except KeyError: # Phone numbers missing\n",
    "    list = tryoutees.drop_duplicates(subset='Email Address')\n",
    "    list = list[['Email Address','Full Name']]\n",
    "    \n",
    "    details = df[[email]]\n",
    "    details = details.rename(columns={email: 'Email Address'})\n",
    "    details = details.dropna()\n",
    "    details = details.merge(list, how='right', on=['Email Address'])\n",
    "    details = details[['Email Address','Full Name']]\n",
    "finally: # untested but fixes tryoutees.xlsx\n",
    "    details.drop_duplicates(subset='Email Address',inplace=True)\n",
    "    details.reset_index(inplace=True,drop=True)"
   ]
  },
  {
   "cell_type": "code",
   "execution_count": null,
   "id": "bfd58771",
   "metadata": {},
   "outputs": [],
   "source": []
  },
  {
   "cell_type": "code",
   "execution_count": 13,
   "id": "ada8f735-27c0-4659-be65-f371249ced80",
   "metadata": {},
   "outputs": [],
   "source": [
    "# Strip phone numbers\n",
    "def strip(string):\n",
    "    string = str(string)\n",
    "    return re.sub(r'[^0-9]', '', string)\n",
    "try:\n",
    "    details['Phone Number'] = details['Phone Number'].apply(strip)\n",
    "except:\n",
    "    pass"
   ]
  },
  {
   "cell_type": "code",
   "execution_count": 14,
   "id": "9d5df188-6b62-4f5f-a216-03abe9bb5a48",
   "metadata": {},
   "outputs": [],
   "source": [
    "# Print tryoutees list to 'tryoutees.xlsx'\n",
    "details.to_excel('tryoutees.xlsx')"
   ]
  },
  {
   "cell_type": "code",
   "execution_count": 15,
   "id": "82c2fe6d-74ad-496d-916c-e95419c00c09",
   "metadata": {},
   "outputs": [],
   "source": [
    "# Convert Google Forms time collection to calendar date\n",
    "tryoutees['Timestamp'] = pd.to_datetime(tryoutees['Timestamp'], format='mixed')\n",
    "tryoutees['Timestamp'] = tryoutees['Timestamp'].apply(lambda x: x.date())"
   ]
  },
  {
   "cell_type": "code",
   "execution_count": 16,
   "id": "18eaae58-c2be-455a-9d5d-395ebd5ae33b",
   "metadata": {},
   "outputs": [],
   "source": [
    "# Create attendance sheet of all tryoutees\n",
    "# attendance = tryoutees.drop_duplicates(subset=['Email Address'])\n",
    "attendance = tryoutees\n",
    "attendance = attendance['Email Address']"
   ]
  },
  {
   "cell_type": "code",
   "execution_count": 17,
   "id": "c2d1b195-8c29-4385-96ef-983d36bb454a",
   "metadata": {},
   "outputs": [],
   "source": [
    "# Function checks whether the date is a Sunday or a Makeup day\n",
    "def check_date(input, main_date, makeup_date):\n",
    "    if input == main_date:\n",
    "        return 'Sunday'\n",
    "    elif input == makeup_date:\n",
    "        return 'Makeup'\n",
    "    else:\n",
    "        return np.nan"
   ]
  },
  {
   "cell_type": "code",
   "execution_count": 18,
   "id": "6efb45ae-4011-437d-a249-aff3a9312ceb",
   "metadata": {},
   "outputs": [],
   "source": [
    "# Create the columns for the weeks that have passed\n",
    "tryoutees = tryoutees[['Timestamp','Email Address']]\n",
    "for week in range(0,week_num):\n",
    "    # List attendance of each week\n",
    "    weekly_attendance = tryoutees[(tryoutees['Timestamp'] == main_days[week]) | (tryoutees['Timestamp'] == makeup_days[week])]\n",
    "    attendance = pd.merge(attendance, weekly_attendance, how='left', on='Email Address')\n",
    "    attendance.drop_duplicates(subset=['Email Address','Timestamp'],inplace=True)\n",
    "    attendance = attendance.rename(columns={'Timestamp' : 'Week x'})\n",
    "    attendance['Week x'] = attendance['Week x'].apply(lambda x: check_date(x, main_days[week], makeup_days[week]))\n",
    "    attendance = attendance.rename(columns={'Week x' : f'Week {week + 1}'})\n",
    "    # Flag people who went to both practices\n",
    "    attendance.loc[attendance.duplicated(subset='Email Address',keep=False),f'Week {week + 1}'] = 'Sunday/Makeup'\n",
    "    attendance.drop_duplicates(subset=['Email Address'],inplace=True)"
   ]
  },
  {
   "cell_type": "code",
   "execution_count": 19,
   "id": "70f30d9f-cb4e-4af2-8f5d-3b7bc16218e1",
   "metadata": {},
   "outputs": [],
   "source": [
    "def tabulate_absences(row):\n",
    "    count_sunday = sum(value == 'Sunday' for value in row)\n",
    "    count_makeup = sum(value == 'Makeup' for value in row)\n",
    "    count_both = sum(value == 'Sunday/Makeup' for value in row)\n",
    "    count_sunday += count_both  # Going to both days in a week is same as 1 Sunday for attendance\n",
    "    if count_sunday >= required_total_practices:\n",
    "        return True\n",
    "    elif count_sunday == required_sunday_practices and count_makeup >= required_total_practices - required_sunday_practices:\n",
    "        return True\n",
    "    else:\n",
    "        return False"
   ]
  },
  {
   "cell_type": "code",
   "execution_count": 20,
   "id": "ec6dfcb9-1ab4-44bc-aa06-12f4ba9470e5",
   "metadata": {},
   "outputs": [],
   "source": [
    "if week_num == num_weeks:\n",
    "    performers = attendance[attendance['Week 5'] == 'Sunday']\n",
    "    performers = pd.merge(performers, details, how='left', on='Email Address')\n",
    "    performers['Eligible?'] = performers.apply(tabulate_absences, axis=1)\n",
    "    new_order = ['Email Address','Full Name','Phone Number','Week 1','Week 2','Week 3','Week 4','Week 5','Eligible?']\n",
    "    performers = performers[new_order]\n",
    "    performers.drop_duplicates(subset='Email Address',inplace=True)\n",
    "else:\n",
    "    pd.merge(attendance, details, how='outer', on='Email Address')\n",
    "    attendance = attendance[attendance.iloc[:,-1].notna()]"
   ]
  },
  {
   "cell_type": "code",
   "execution_count": 21,
   "id": "14ab6215-db24-47f2-9c3f-5a1b753cb619",
   "metadata": {},
   "outputs": [
    {
     "name": "stdout",
     "output_type": "stream",
     "text": [
      "Output in week_5_performers.xlsx\n"
     ]
    }
   ],
   "source": [
    "# Prints the people who are eligible and performed Week 5 to 'week_5_performers.xlsx'\n",
    "if week_num == num_weeks:\n",
    "    (performers\n",
    "     .reset_index(drop=True)\n",
    "     .fillna('N/A')\n",
    "     .to_excel(f'week_{num_weeks}_performers.xlsx'))\n",
    "    print(f\"Output in week_{num_weeks}_performers.xlsx\")\n",
    "# If before Week 5, print attendance sheet for the most recent week\n",
    "else:\n",
    "    (attendance\n",
    "     .reset_index(drop=True)\n",
    "     .fillna('N/A')\n",
    "     .to_excel(f'week_{week + 1}_attendance.xlsx'))\n",
    "    print(f'Output in week_{week + 1}_attendance.xlsx')"
   ]
  },
  {
   "cell_type": "code",
   "execution_count": 22,
   "id": "090c6f99",
   "metadata": {},
   "outputs": [
    {
     "data": {
      "text/plain": [
       "<bound method Kernel.raw_input of <ipykernel.ipkernel.IPythonKernel object at 0x000001F6EAE201D0>>"
      ]
     },
     "execution_count": 22,
     "metadata": {},
     "output_type": "execute_result"
    }
   ],
   "source": [
    "atexit.register(input, 'Press Enter to continue...')"
   ]
  }
 ],
 "metadata": {
  "kernelspec": {
   "display_name": "Python 3 (ipykernel)",
   "language": "python",
   "name": "python3"
  },
  "language_info": {
   "codemirror_mode": {
    "name": "ipython",
    "version": 3
   },
   "file_extension": ".py",
   "mimetype": "text/x-python",
   "name": "python",
   "nbconvert_exporter": "python",
   "pygments_lexer": "ipython3",
   "version": "3.11.7"
  }
 },
 "nbformat": 4,
 "nbformat_minor": 5
}
